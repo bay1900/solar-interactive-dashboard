{
 "cells": [
  {
   "cell_type": "code",
   "execution_count": 2,
   "id": "98cf6054-8c2f-4b4c-9bd5-2109a9231e0a",
   "metadata": {},
   "outputs": [
    {
     "data": {
      "text/html": [
       "<div>\n",
       "<style scoped>\n",
       "    .dataframe tbody tr th:only-of-type {\n",
       "        vertical-align: middle;\n",
       "    }\n",
       "\n",
       "    .dataframe tbody tr th {\n",
       "        vertical-align: top;\n",
       "    }\n",
       "\n",
       "    .dataframe thead th {\n",
       "        text-align: right;\n",
       "    }\n",
       "</style>\n",
       "<table border=\"1\" class=\"dataframe\">\n",
       "  <thead>\n",
       "    <tr style=\"text-align: right;\">\n",
       "      <th></th>\n",
       "      <th>Country</th>\n",
       "      <th>Policy</th>\n",
       "      <th>Year</th>\n",
       "      <th>Result</th>\n",
       "      <th>Installed_Capacity_MW</th>\n",
       "      <th>Cost_Reduction_LCOE_kWh</th>\n",
       "      <th>New_Solar_Installation</th>\n",
       "      <th>Carbon_Emissions_Reduction (tons)</th>\n",
       "      <th>Economic_Impact</th>\n",
       "    </tr>\n",
       "  </thead>\n",
       "  <tbody>\n",
       "    <tr>\n",
       "      <th>0</th>\n",
       "      <td>JPN</td>\n",
       "      <td>Feed_in_Tariff_System</td>\n",
       "      <td>2011</td>\n",
       "      <td>Initial success</td>\n",
       "      <td>52742.0</td>\n",
       "      <td>None</td>\n",
       "      <td>1296.0</td>\n",
       "      <td>200000</td>\n",
       "      <td>Moderate</td>\n",
       "    </tr>\n",
       "    <tr>\n",
       "      <th>1</th>\n",
       "      <td>JPN</td>\n",
       "      <td>Feed_in_Tariff_System</td>\n",
       "      <td>2012</td>\n",
       "      <td>Growing adoption</td>\n",
       "      <td>32.0</td>\n",
       "      <td>0.27</td>\n",
       "      <td>1718.0</td>\n",
       "      <td>400000</td>\n",
       "      <td>Moderate</td>\n",
       "    </tr>\n",
       "    <tr>\n",
       "      <th>2</th>\n",
       "      <td>JPN</td>\n",
       "      <td>Feed_in_Tariff_System</td>\n",
       "      <td>2013</td>\n",
       "      <td>Major growth</td>\n",
       "      <td>29.0</td>\n",
       "      <td>0.26</td>\n",
       "      <td>6967.0</td>\n",
       "      <td>500000</td>\n",
       "      <td>High</td>\n",
       "    </tr>\n",
       "    <tr>\n",
       "      <th>3</th>\n",
       "      <td>JPN</td>\n",
       "      <td>Feed_in_Tariff_System</td>\n",
       "      <td>2014</td>\n",
       "      <td>Continued growth</td>\n",
       "      <td>26.0</td>\n",
       "      <td>0.24</td>\n",
       "      <td>9740.0</td>\n",
       "      <td>600000</td>\n",
       "      <td>High</td>\n",
       "    </tr>\n",
       "    <tr>\n",
       "      <th>4</th>\n",
       "      <td>JPN</td>\n",
       "      <td>Feed_in_Tariff_System</td>\n",
       "      <td>2015</td>\n",
       "      <td>Stable growth</td>\n",
       "      <td>25.0</td>\n",
       "      <td>0.23</td>\n",
       "      <td>10811.0</td>\n",
       "      <td>700000</td>\n",
       "      <td>High</td>\n",
       "    </tr>\n",
       "  </tbody>\n",
       "</table>\n",
       "</div>"
      ],
      "text/plain": [
       "  Country                 Policy  Year            Result  \\\n",
       "0     JPN  Feed_in_Tariff_System  2011   Initial success   \n",
       "1     JPN  Feed_in_Tariff_System  2012  Growing adoption   \n",
       "2     JPN  Feed_in_Tariff_System  2013      Major growth   \n",
       "3     JPN  Feed_in_Tariff_System  2014  Continued growth   \n",
       "4     JPN  Feed_in_Tariff_System  2015     Stable growth   \n",
       "\n",
       "   Installed_Capacity_MW Cost_Reduction_LCOE_kWh  New_Solar_Installation  \\\n",
       "0                52742.0                    None                  1296.0   \n",
       "1                   32.0                    0.27                  1718.0   \n",
       "2                   29.0                    0.26                  6967.0   \n",
       "3                   26.0                    0.24                  9740.0   \n",
       "4                   25.0                    0.23                 10811.0   \n",
       "\n",
       "   Carbon_Emissions_Reduction (tons) Economic_Impact  \n",
       "0                             200000        Moderate  \n",
       "1                             400000        Moderate  \n",
       "2                             500000            High  \n",
       "3                             600000            High  \n",
       "4                             700000            High  "
      ]
     },
     "execution_count": 2,
     "metadata": {},
     "output_type": "execute_result"
    }
   ],
   "source": [
    "import pandas as pd\n",
    "\n",
    "# Re-defining the data dictionary\n",
    "data = {\n",
    "    \"Country\": [\"JPN\", \"JPN\", \"JPN\", \"JPN\", \"JPN\", \"JPN\", \"JPN\", \"JPN\", \"JPN\", \"JPN\", \"JPN\", \"JPN\", \"JPN\", \"SGP\", \"SGP\", \"SGP\", \"SGP\", \"SGP\", \"SGP\", \"SGP\", \"SGP\", \"AUZ\", \"AUZ\", \"AUZ\", \"AUZ\", \"AUZ\", \"AUZ\", \"AUZ\", \"AUZ\", \"AUZ\", \"AUZ\", \"AUZ\", \"VN\", \"VN\", \"VN\", \"VN\", \"VN\", \"VN\", \"VN\", \"VN\"],\n",
    "    \"Policy\": [\"Feed_in_Tariff_System\"] * 13 + [\"Net Metering Scheme\"] * 8 + [\"Feed_in_Tariff\"] * 11 + [\"FIT\"] * 8,\n",
    "    \"Year\": [2011, 2012, 2013, 2014, 2015, 2016, 2017, 2018, 2019, 2020, 2021, 2022, 2023, 2017, 2018, 2019, 2020, 2021, 2022, 2023, 2024, 2011, 2012, 2013, 2014, 2015, 2016, 2017, 2018, 2019, 2020, 2021, 2017, 2018, 2019, 2020, 2021, 2022, 2023, 2024],\n",
    "    \"Result\": [\"Initial success\", \"Growing adoption\", \"Major growth\", \"Continued growth\", \"Stable growth\", \"Slight decline\", \"Stabilization\", \"Policy adjustments\", \"Slight decline\", \"Increased focus\", \"Record installations\", \"Slight slowdown\", \"Rebounding growth\", \"Steady growth\", \"Increased adoption\", \"Rapid growth\", \"Strong growth\", \"Record installations\", \"Further growth\", \"Significant progress\", \"Peak adoption\", \"Limited progress\", \"Low uptake\", \"Slight increase\", \"Steady growth\", \"Rapid installations\", \"Stable adoption\", \"Moderate decline\", \"Slight increase\", \"New focus\", \"More projects\", \"Accelerated development\", \"Slow start\", \"Initial progress\", \"New projects\", \"Further increase\", \"Strong development\", \"Large installations\", \"Further growth\", \"Record installations\"],\n",
    "    \"Installed_Capacity_MW\": [52742, 32, 29, 26, 25, 24, 24, 23, 22, None, 85020, 90000, 95000, 151.1, 209.8, 352.7, 431.2, 631.8, 822, 1000.5, 1200, None, 2.4, 2.13, 2.4, 1.86, 5000, 7000, 10000, 15000, 17000, 20000, 10, 86, 4750, 6000, 8000, 10000, 12000, 14000],\n",
    "    \"Cost_Reduction_LCOE_kWh\": [None, 0.27, 0.26, 0.24, 0.23, 0.22, 0.21, 0.2, 0.19, 0.18, 0.17, 0.16, 0.15, 0.24, 0.23, 0.22, 0.2, 0.18, 0.16, 0.15, 0.14, None, None, None, None, None, 0.19, 0.18, 0.17, 0.16, 0.15, 0.14, None, \"US$87.5/MWh\", \"US$76/MWh\", \"US$66/MWh\", 0.17, 0.15, 0.14, 0.13],\n",
    "    \"New_Solar_Installation\": [1296, 1718, 6967, 9740, 10811, 8600, 7000, 5000, 4000, 236266, 12000, 15000, 18000, 2500, 3500, 5000, 5500, 6000, 7000, 9000, 12000, None, 200, 250, 500, 1000, 7000, 8000, 10000, 15000, 18000, 20000, 1000, 1500, 6000, 8000, 9500, 10000, 12500, 15000],\n",
    "    \"Carbon_Emissions_Reduction (tons)\": [200000, 400000, 500000, 600000, 700000, 550000, 500000, 450000, 400000, 3000000, 3200000, 3500000, 4000000, 50000, 75000, 100000, 125000, 150000, 175000, 200000, 250000, 10000, 12000, 15000, 20000, 500000, 600000, 800000, 1000000, 1200000, 1500000, 1800000, 50000, 75000, 250000, 350000, 500000, 600000, 800000, 1000000],\n",
    "    \"Economic_Impact\": [\"Moderate\", \"Moderate\", \"High\", \"High\", \"High\", \"Moderate\", \"Moderate\", \"Low\", \"Low\", \"Very High\", \"Very High\", \"Very High\", \"Very High\", \"Moderate\", \"Moderate\", \"High\", \"High\", \"High\", \"High\", \"Very High\", \"Very High\", \"Low\", \"Low\", \"Low\", \"Low\", \"Moderate\", \"Moderate\", \"Moderate\", \"High\", \"Very High\", \"Very High\", \"Very High\", \"Low\", \"Moderate\", \"High\", \"High\", \"Very High\", \"Very High\", \"Very High\", \"Very High\"]\n",
    "}\n",
    "\n",
    "# Creating a pandas DataFrame from the data dictionary\n",
    "df = pd.DataFrame(data)\n",
    "\n",
    "# Displaying the first few rows of the DataFrame to ensure the data is correctly formatted\n",
    "df.head()\n"
   ]
  },
  {
   "cell_type": "code",
   "execution_count": 6,
   "id": "6f7e359f-582c-4d56-8e6e-5615c2fbc54d",
   "metadata": {},
   "outputs": [
    {
     "data": {
      "application/vnd.plotly.v1+json": {
       "config": {
        "plotlyServerURL": "https://plot.ly"
       },
       "data": [
        {
         "customdata": [
          [
           2011
          ],
          [
           2012
          ],
          [
           2013
          ],
          [
           2014
          ],
          [
           2015
          ],
          [
           2016
          ],
          [
           2017
          ],
          [
           2018
          ],
          [
           2019
          ],
          [
           2020
          ],
          [
           2021
          ],
          [
           2022
          ],
          [
           2023
          ]
         ],
         "hovertemplate": "Country=JPN<br>Cost Reduction (LCOE per kWh)=%{x}<br>Installed Capacity (MW)=%{y}<br>New_Solar_Installation=%{marker.size}<br>Year=%{customdata[0]}<extra></extra>",
         "legendgroup": "JPN",
         "marker": {
          "color": "#636efa",
          "size": [
           1296,
           1718,
           6967,
           9740,
           10811,
           8600,
           7000,
           5000,
           4000,
           236266,
           12000,
           15000,
           18000
          ],
          "sizemode": "area",
          "sizeref": 590.665,
          "symbol": "circle"
         },
         "mode": "markers",
         "name": "JPN",
         "orientation": "v",
         "showlegend": true,
         "type": "scatter",
         "x": [
          null,
          0.27,
          0.26,
          0.24,
          0.23,
          0.22,
          0.21,
          0.2,
          0.19,
          0.18,
          0.17,
          0.16,
          0.15
         ],
         "xaxis": "x",
         "y": [
          52742,
          32,
          29,
          26,
          25,
          24,
          24,
          23,
          22,
          null,
          85020,
          90000,
          95000
         ],
         "yaxis": "y"
        },
        {
         "customdata": [
          [
           2017
          ],
          [
           2018
          ],
          [
           2019
          ],
          [
           2020
          ],
          [
           2021
          ],
          [
           2022
          ],
          [
           2023
          ],
          [
           2024
          ]
         ],
         "hovertemplate": "Country=SGP<br>Cost Reduction (LCOE per kWh)=%{x}<br>Installed Capacity (MW)=%{y}<br>New_Solar_Installation=%{marker.size}<br>Year=%{customdata[0]}<extra></extra>",
         "legendgroup": "SGP",
         "marker": {
          "color": "#EF553B",
          "size": [
           2500,
           3500,
           5000,
           5500,
           6000,
           7000,
           9000,
           12000
          ],
          "sizemode": "area",
          "sizeref": 590.665,
          "symbol": "circle"
         },
         "mode": "markers",
         "name": "SGP",
         "orientation": "v",
         "showlegend": true,
         "type": "scatter",
         "x": [
          0.24,
          0.23,
          0.22,
          0.2,
          0.18,
          0.16,
          0.15,
          0.14
         ],
         "xaxis": "x",
         "y": [
          151.1,
          209.8,
          352.7,
          431.2,
          631.8,
          822,
          1000.5,
          1200
         ],
         "yaxis": "y"
        },
        {
         "customdata": [
          [
           2011
          ],
          [
           2012
          ],
          [
           2013
          ],
          [
           2014
          ],
          [
           2015
          ],
          [
           2016
          ],
          [
           2017
          ],
          [
           2018
          ],
          [
           2019
          ],
          [
           2020
          ],
          [
           2021
          ]
         ],
         "hovertemplate": "Country=AUZ<br>Cost Reduction (LCOE per kWh)=%{x}<br>Installed Capacity (MW)=%{y}<br>New_Solar_Installation=%{marker.size}<br>Year=%{customdata[0]}<extra></extra>",
         "legendgroup": "AUZ",
         "marker": {
          "color": "#00cc96",
          "size": [
           0,
           200,
           250,
           500,
           1000,
           7000,
           8000,
           10000,
           15000,
           18000,
           20000
          ],
          "sizemode": "area",
          "sizeref": 590.665,
          "symbol": "circle"
         },
         "mode": "markers",
         "name": "AUZ",
         "orientation": "v",
         "showlegend": true,
         "type": "scatter",
         "x": [
          null,
          null,
          null,
          null,
          null,
          0.19,
          0.18,
          0.17,
          0.16,
          0.15,
          0.14
         ],
         "xaxis": "x",
         "y": [
          null,
          2.4,
          2.13,
          2.4,
          1.86,
          5000,
          7000,
          10000,
          15000,
          17000,
          20000
         ],
         "yaxis": "y"
        },
        {
         "customdata": [
          [
           2017
          ],
          [
           2018
          ],
          [
           2019
          ],
          [
           2020
          ],
          [
           2021
          ],
          [
           2022
          ],
          [
           2023
          ],
          [
           2024
          ]
         ],
         "hovertemplate": "Country=VN<br>Cost Reduction (LCOE per kWh)=%{x}<br>Installed Capacity (MW)=%{y}<br>New_Solar_Installation=%{marker.size}<br>Year=%{customdata[0]}<extra></extra>",
         "legendgroup": "VN",
         "marker": {
          "color": "#ab63fa",
          "size": [
           1000,
           1500,
           6000,
           8000,
           9500,
           10000,
           12500,
           15000
          ],
          "sizemode": "area",
          "sizeref": 590.665,
          "symbol": "circle"
         },
         "mode": "markers",
         "name": "VN",
         "orientation": "v",
         "showlegend": true,
         "type": "scatter",
         "x": [
          null,
          87.5,
          76,
          66,
          0.17,
          0.15,
          0.14,
          0.13
         ],
         "xaxis": "x",
         "y": [
          10,
          86,
          4750,
          6000,
          8000,
          10000,
          12000,
          14000
         ],
         "yaxis": "y"
        }
       ],
       "layout": {
        "autosize": true,
        "legend": {
         "itemsizing": "constant",
         "title": {
          "text": "Country"
         },
         "tracegroupgap": 0
        },
        "template": {
         "data": {
          "bar": [
           {
            "error_x": {
             "color": "#2a3f5f"
            },
            "error_y": {
             "color": "#2a3f5f"
            },
            "marker": {
             "line": {
              "color": "#E5ECF6",
              "width": 0.5
             },
             "pattern": {
              "fillmode": "overlay",
              "size": 10,
              "solidity": 0.2
             }
            },
            "type": "bar"
           }
          ],
          "barpolar": [
           {
            "marker": {
             "line": {
              "color": "#E5ECF6",
              "width": 0.5
             },
             "pattern": {
              "fillmode": "overlay",
              "size": 10,
              "solidity": 0.2
             }
            },
            "type": "barpolar"
           }
          ],
          "carpet": [
           {
            "aaxis": {
             "endlinecolor": "#2a3f5f",
             "gridcolor": "white",
             "linecolor": "white",
             "minorgridcolor": "white",
             "startlinecolor": "#2a3f5f"
            },
            "baxis": {
             "endlinecolor": "#2a3f5f",
             "gridcolor": "white",
             "linecolor": "white",
             "minorgridcolor": "white",
             "startlinecolor": "#2a3f5f"
            },
            "type": "carpet"
           }
          ],
          "choropleth": [
           {
            "colorbar": {
             "outlinewidth": 0,
             "ticks": ""
            },
            "type": "choropleth"
           }
          ],
          "contour": [
           {
            "colorbar": {
             "outlinewidth": 0,
             "ticks": ""
            },
            "colorscale": [
             [
              0,
              "#0d0887"
             ],
             [
              0.1111111111111111,
              "#46039f"
             ],
             [
              0.2222222222222222,
              "#7201a8"
             ],
             [
              0.3333333333333333,
              "#9c179e"
             ],
             [
              0.4444444444444444,
              "#bd3786"
             ],
             [
              0.5555555555555556,
              "#d8576b"
             ],
             [
              0.6666666666666666,
              "#ed7953"
             ],
             [
              0.7777777777777778,
              "#fb9f3a"
             ],
             [
              0.8888888888888888,
              "#fdca26"
             ],
             [
              1,
              "#f0f921"
             ]
            ],
            "type": "contour"
           }
          ],
          "contourcarpet": [
           {
            "colorbar": {
             "outlinewidth": 0,
             "ticks": ""
            },
            "type": "contourcarpet"
           }
          ],
          "heatmap": [
           {
            "colorbar": {
             "outlinewidth": 0,
             "ticks": ""
            },
            "colorscale": [
             [
              0,
              "#0d0887"
             ],
             [
              0.1111111111111111,
              "#46039f"
             ],
             [
              0.2222222222222222,
              "#7201a8"
             ],
             [
              0.3333333333333333,
              "#9c179e"
             ],
             [
              0.4444444444444444,
              "#bd3786"
             ],
             [
              0.5555555555555556,
              "#d8576b"
             ],
             [
              0.6666666666666666,
              "#ed7953"
             ],
             [
              0.7777777777777778,
              "#fb9f3a"
             ],
             [
              0.8888888888888888,
              "#fdca26"
             ],
             [
              1,
              "#f0f921"
             ]
            ],
            "type": "heatmap"
           }
          ],
          "heatmapgl": [
           {
            "colorbar": {
             "outlinewidth": 0,
             "ticks": ""
            },
            "colorscale": [
             [
              0,
              "#0d0887"
             ],
             [
              0.1111111111111111,
              "#46039f"
             ],
             [
              0.2222222222222222,
              "#7201a8"
             ],
             [
              0.3333333333333333,
              "#9c179e"
             ],
             [
              0.4444444444444444,
              "#bd3786"
             ],
             [
              0.5555555555555556,
              "#d8576b"
             ],
             [
              0.6666666666666666,
              "#ed7953"
             ],
             [
              0.7777777777777778,
              "#fb9f3a"
             ],
             [
              0.8888888888888888,
              "#fdca26"
             ],
             [
              1,
              "#f0f921"
             ]
            ],
            "type": "heatmapgl"
           }
          ],
          "histogram": [
           {
            "marker": {
             "pattern": {
              "fillmode": "overlay",
              "size": 10,
              "solidity": 0.2
             }
            },
            "type": "histogram"
           }
          ],
          "histogram2d": [
           {
            "colorbar": {
             "outlinewidth": 0,
             "ticks": ""
            },
            "colorscale": [
             [
              0,
              "#0d0887"
             ],
             [
              0.1111111111111111,
              "#46039f"
             ],
             [
              0.2222222222222222,
              "#7201a8"
             ],
             [
              0.3333333333333333,
              "#9c179e"
             ],
             [
              0.4444444444444444,
              "#bd3786"
             ],
             [
              0.5555555555555556,
              "#d8576b"
             ],
             [
              0.6666666666666666,
              "#ed7953"
             ],
             [
              0.7777777777777778,
              "#fb9f3a"
             ],
             [
              0.8888888888888888,
              "#fdca26"
             ],
             [
              1,
              "#f0f921"
             ]
            ],
            "type": "histogram2d"
           }
          ],
          "histogram2dcontour": [
           {
            "colorbar": {
             "outlinewidth": 0,
             "ticks": ""
            },
            "colorscale": [
             [
              0,
              "#0d0887"
             ],
             [
              0.1111111111111111,
              "#46039f"
             ],
             [
              0.2222222222222222,
              "#7201a8"
             ],
             [
              0.3333333333333333,
              "#9c179e"
             ],
             [
              0.4444444444444444,
              "#bd3786"
             ],
             [
              0.5555555555555556,
              "#d8576b"
             ],
             [
              0.6666666666666666,
              "#ed7953"
             ],
             [
              0.7777777777777778,
              "#fb9f3a"
             ],
             [
              0.8888888888888888,
              "#fdca26"
             ],
             [
              1,
              "#f0f921"
             ]
            ],
            "type": "histogram2dcontour"
           }
          ],
          "mesh3d": [
           {
            "colorbar": {
             "outlinewidth": 0,
             "ticks": ""
            },
            "type": "mesh3d"
           }
          ],
          "parcoords": [
           {
            "line": {
             "colorbar": {
              "outlinewidth": 0,
              "ticks": ""
             }
            },
            "type": "parcoords"
           }
          ],
          "pie": [
           {
            "automargin": true,
            "type": "pie"
           }
          ],
          "scatter": [
           {
            "fillpattern": {
             "fillmode": "overlay",
             "size": 10,
             "solidity": 0.2
            },
            "type": "scatter"
           }
          ],
          "scatter3d": [
           {
            "line": {
             "colorbar": {
              "outlinewidth": 0,
              "ticks": ""
             }
            },
            "marker": {
             "colorbar": {
              "outlinewidth": 0,
              "ticks": ""
             }
            },
            "type": "scatter3d"
           }
          ],
          "scattercarpet": [
           {
            "marker": {
             "colorbar": {
              "outlinewidth": 0,
              "ticks": ""
             }
            },
            "type": "scattercarpet"
           }
          ],
          "scattergeo": [
           {
            "marker": {
             "colorbar": {
              "outlinewidth": 0,
              "ticks": ""
             }
            },
            "type": "scattergeo"
           }
          ],
          "scattergl": [
           {
            "marker": {
             "colorbar": {
              "outlinewidth": 0,
              "ticks": ""
             }
            },
            "type": "scattergl"
           }
          ],
          "scattermapbox": [
           {
            "marker": {
             "colorbar": {
              "outlinewidth": 0,
              "ticks": ""
             }
            },
            "type": "scattermapbox"
           }
          ],
          "scatterpolar": [
           {
            "marker": {
             "colorbar": {
              "outlinewidth": 0,
              "ticks": ""
             }
            },
            "type": "scatterpolar"
           }
          ],
          "scatterpolargl": [
           {
            "marker": {
             "colorbar": {
              "outlinewidth": 0,
              "ticks": ""
             }
            },
            "type": "scatterpolargl"
           }
          ],
          "scatterternary": [
           {
            "marker": {
             "colorbar": {
              "outlinewidth": 0,
              "ticks": ""
             }
            },
            "type": "scatterternary"
           }
          ],
          "surface": [
           {
            "colorbar": {
             "outlinewidth": 0,
             "ticks": ""
            },
            "colorscale": [
             [
              0,
              "#0d0887"
             ],
             [
              0.1111111111111111,
              "#46039f"
             ],
             [
              0.2222222222222222,
              "#7201a8"
             ],
             [
              0.3333333333333333,
              "#9c179e"
             ],
             [
              0.4444444444444444,
              "#bd3786"
             ],
             [
              0.5555555555555556,
              "#d8576b"
             ],
             [
              0.6666666666666666,
              "#ed7953"
             ],
             [
              0.7777777777777778,
              "#fb9f3a"
             ],
             [
              0.8888888888888888,
              "#fdca26"
             ],
             [
              1,
              "#f0f921"
             ]
            ],
            "type": "surface"
           }
          ],
          "table": [
           {
            "cells": {
             "fill": {
              "color": "#EBF0F8"
             },
             "line": {
              "color": "white"
             }
            },
            "header": {
             "fill": {
              "color": "#C8D4E3"
             },
             "line": {
              "color": "white"
             }
            },
            "type": "table"
           }
          ]
         },
         "layout": {
          "annotationdefaults": {
           "arrowcolor": "#2a3f5f",
           "arrowhead": 0,
           "arrowwidth": 1
          },
          "autotypenumbers": "strict",
          "coloraxis": {
           "colorbar": {
            "outlinewidth": 0,
            "ticks": ""
           }
          },
          "colorscale": {
           "diverging": [
            [
             0,
             "#8e0152"
            ],
            [
             0.1,
             "#c51b7d"
            ],
            [
             0.2,
             "#de77ae"
            ],
            [
             0.3,
             "#f1b6da"
            ],
            [
             0.4,
             "#fde0ef"
            ],
            [
             0.5,
             "#f7f7f7"
            ],
            [
             0.6,
             "#e6f5d0"
            ],
            [
             0.7,
             "#b8e186"
            ],
            [
             0.8,
             "#7fbc41"
            ],
            [
             0.9,
             "#4d9221"
            ],
            [
             1,
             "#276419"
            ]
           ],
           "sequential": [
            [
             0,
             "#0d0887"
            ],
            [
             0.1111111111111111,
             "#46039f"
            ],
            [
             0.2222222222222222,
             "#7201a8"
            ],
            [
             0.3333333333333333,
             "#9c179e"
            ],
            [
             0.4444444444444444,
             "#bd3786"
            ],
            [
             0.5555555555555556,
             "#d8576b"
            ],
            [
             0.6666666666666666,
             "#ed7953"
            ],
            [
             0.7777777777777778,
             "#fb9f3a"
            ],
            [
             0.8888888888888888,
             "#fdca26"
            ],
            [
             1,
             "#f0f921"
            ]
           ],
           "sequentialminus": [
            [
             0,
             "#0d0887"
            ],
            [
             0.1111111111111111,
             "#46039f"
            ],
            [
             0.2222222222222222,
             "#7201a8"
            ],
            [
             0.3333333333333333,
             "#9c179e"
            ],
            [
             0.4444444444444444,
             "#bd3786"
            ],
            [
             0.5555555555555556,
             "#d8576b"
            ],
            [
             0.6666666666666666,
             "#ed7953"
            ],
            [
             0.7777777777777778,
             "#fb9f3a"
            ],
            [
             0.8888888888888888,
             "#fdca26"
            ],
            [
             1,
             "#f0f921"
            ]
           ]
          },
          "colorway": [
           "#636efa",
           "#EF553B",
           "#00cc96",
           "#ab63fa",
           "#FFA15A",
           "#19d3f3",
           "#FF6692",
           "#B6E880",
           "#FF97FF",
           "#FECB52"
          ],
          "font": {
           "color": "#2a3f5f"
          },
          "geo": {
           "bgcolor": "white",
           "lakecolor": "white",
           "landcolor": "#E5ECF6",
           "showlakes": true,
           "showland": true,
           "subunitcolor": "white"
          },
          "hoverlabel": {
           "align": "left"
          },
          "hovermode": "closest",
          "mapbox": {
           "style": "light"
          },
          "paper_bgcolor": "white",
          "plot_bgcolor": "#E5ECF6",
          "polar": {
           "angularaxis": {
            "gridcolor": "white",
            "linecolor": "white",
            "ticks": ""
           },
           "bgcolor": "#E5ECF6",
           "radialaxis": {
            "gridcolor": "white",
            "linecolor": "white",
            "ticks": ""
           }
          },
          "scene": {
           "xaxis": {
            "backgroundcolor": "#E5ECF6",
            "gridcolor": "white",
            "gridwidth": 2,
            "linecolor": "white",
            "showbackground": true,
            "ticks": "",
            "zerolinecolor": "white"
           },
           "yaxis": {
            "backgroundcolor": "#E5ECF6",
            "gridcolor": "white",
            "gridwidth": 2,
            "linecolor": "white",
            "showbackground": true,
            "ticks": "",
            "zerolinecolor": "white"
           },
           "zaxis": {
            "backgroundcolor": "#E5ECF6",
            "gridcolor": "white",
            "gridwidth": 2,
            "linecolor": "white",
            "showbackground": true,
            "ticks": "",
            "zerolinecolor": "white"
           }
          },
          "shapedefaults": {
           "line": {
            "color": "#2a3f5f"
           }
          },
          "ternary": {
           "aaxis": {
            "gridcolor": "white",
            "linecolor": "white",
            "ticks": ""
           },
           "baxis": {
            "gridcolor": "white",
            "linecolor": "white",
            "ticks": ""
           },
           "bgcolor": "#E5ECF6",
           "caxis": {
            "gridcolor": "white",
            "linecolor": "white",
            "ticks": ""
           }
          },
          "title": {
           "x": 0.05
          },
          "xaxis": {
           "automargin": true,
           "gridcolor": "white",
           "linecolor": "white",
           "ticks": "",
           "title": {
            "standoff": 15
           },
           "zerolinecolor": "white",
           "zerolinewidth": 2
          },
          "yaxis": {
           "automargin": true,
           "gridcolor": "white",
           "linecolor": "white",
           "ticks": "",
           "title": {
            "standoff": 15
           },
           "zerolinecolor": "white",
           "zerolinewidth": 2
          }
         }
        },
        "title": {
         "text": "Installed Capacity vs. Cost Reduction by Country"
        },
        "xaxis": {
         "anchor": "y",
         "autorange": true,
         "domain": [
          0,
          1
         ],
         "range": [
          -5.415479998704913,
          92.52973868725464
         ],
         "title": {
          "text": "Cost Reduction (LCOE per kWh)"
         },
         "type": "linear"
        },
        "yaxis": {
         "anchor": "x",
         "autorange": true,
         "domain": [
          0,
          1
         ],
         "range": [
          -7598.821740367548,
          103228.43761355474
         ],
         "title": {
          "text": "Installed Capacity (MW)"
         },
         "type": "linear"
        }
       }
      },
      "image/png": "[encoded data removed]",
      "text/html": [
       "<div>                            <div id=\"dc754817-b639-4ebb-b76c-86a1e3eefd5f\" class=\"plotly-graph-div\" style=\"height:525px; width:100%;\"></div>            <script type=\"text/javascript\">                require([\"plotly\"], function(Plotly) {                    window.PLOTLYENV=window.PLOTLYENV || {};                                    if (document.getElementById(\"dc754817-b639-4ebb-b76c-86a1e3eefd5f\")) {                    Plotly.newPlot(                        \"dc754817-b639-4ebb-b76c-86a1e3eefd5f\",                        [{\"customdata\":[[2011],[2012],[2013],[2014],[2015],[2016],[2017],[2018],[2019],[2020],[2021],[2022],[2023]],\"hovertemplate\":\"Country=JPN\\u003cbr\\u003eCost Reduction (LCOE per kWh)=%{x}\\u003cbr\\u003eInstalled Capacity (MW)=%{y}\\u003cbr\\u003eNew_Solar_Installation=%{marker.size}\\u003cbr\\u003eYear=%{customdata[0]}\\u003cextra\\u003e\\u003c\\u002fextra\\u003e\",\"legendgroup\":\"JPN\",\"marker\":{\"color\":\"#636efa\",\"size\":[1296.0,1718.0,6967.0,9740.0,10811.0,8600.0,7000.0,5000.0,4000.0,236266.0,12000.0,15000.0,18000.0],\"sizemode\":\"area\",\"sizeref\":590.665,\"symbol\":\"circle\"},\"mode\":\"markers\",\"name\":\"JPN\",\"orientation\":\"v\",\"showlegend\":true,\"x\":[null,0.27,0.26,0.24,0.23,0.22,0.21,0.2,0.19,0.18,0.17,0.16,0.15],\"xaxis\":\"x\",\"y\":[52742.0,32.0,29.0,26.0,25.0,24.0,24.0,23.0,22.0,null,85020.0,90000.0,95000.0],\"yaxis\":\"y\",\"type\":\"scatter\"},{\"customdata\":[[2017],[2018],[2019],[2020],[2021],[2022],[2023],[2024]],\"hovertemplate\":\"Country=SGP\\u003cbr\\u003eCost Reduction (LCOE per kWh)=%{x}\\u003cbr\\u003eInstalled Capacity (MW)=%{y}\\u003cbr\\u003eNew_Solar_Installation=%{marker.size}\\u003cbr\\u003eYear=%{customdata[0]}\\u003cextra\\u003e\\u003c\\u002fextra\\u003e\",\"legendgroup\":\"SGP\",\"marker\":{\"color\":\"#EF553B\",\"size\":[2500.0,3500.0,5000.0,5500.0,6000.0,7000.0,9000.0,12000.0],\"sizemode\":\"area\",\"sizeref\":590.665,\"symbol\":\"circle\"},\"mode\":\"markers\",\"name\":\"SGP\",\"orientation\":\"v\",\"showlegend\":true,\"x\":[0.24,0.23,0.22,0.2,0.18,0.16,0.15,0.14],\"xaxis\":\"x\",\"y\":[151.1,209.8,352.7,431.2,631.8,822.0,1000.5,1200.0],\"yaxis\":\"y\",\"type\":\"scatter\"},{\"customdata\":[[2011],[2012],[2013],[2014],[2015],[2016],[2017],[2018],[2019],[2020],[2021]],\"hovertemplate\":\"Country=AUZ\\u003cbr\\u003eCost Reduction (LCOE per kWh)=%{x}\\u003cbr\\u003eInstalled Capacity (MW)=%{y}\\u003cbr\\u003eNew_Solar_Installation=%{marker.size}\\u003cbr\\u003eYear=%{customdata[0]}\\u003cextra\\u003e\\u003c\\u002fextra\\u003e\",\"legendgroup\":\"AUZ\",\"marker\":{\"color\":\"#00cc96\",\"size\":[0.0,200.0,250.0,500.0,1000.0,7000.0,8000.0,10000.0,15000.0,18000.0,20000.0],\"sizemode\":\"area\",\"sizeref\":590.665,\"symbol\":\"circle\"},\"mode\":\"markers\",\"name\":\"AUZ\",\"orientation\":\"v\",\"showlegend\":true,\"x\":[null,null,null,null,null,0.19,0.18,0.17,0.16,0.15,0.14],\"xaxis\":\"x\",\"y\":[null,2.4,2.13,2.4,1.86,5000.0,7000.0,10000.0,15000.0,17000.0,20000.0],\"yaxis\":\"y\",\"type\":\"scatter\"},{\"customdata\":[[2017],[2018],[2019],[2020],[2021],[2022],[2023],[2024]],\"hovertemplate\":\"Country=VN\\u003cbr\\u003eCost Reduction (LCOE per kWh)=%{x}\\u003cbr\\u003eInstalled Capacity (MW)=%{y}\\u003cbr\\u003eNew_Solar_Installation=%{marker.size}\\u003cbr\\u003eYear=%{customdata[0]}\\u003cextra\\u003e\\u003c\\u002fextra\\u003e\",\"legendgroup\":\"VN\",\"marker\":{\"color\":\"#ab63fa\",\"size\":[1000.0,1500.0,6000.0,8000.0,9500.0,10000.0,12500.0,15000.0],\"sizemode\":\"area\",\"sizeref\":590.665,\"symbol\":\"circle\"},\"mode\":\"markers\",\"name\":\"VN\",\"orientation\":\"v\",\"showlegend\":true,\"x\":[null,87.5,76.0,66.0,0.17,0.15,0.14,0.13],\"xaxis\":\"x\",\"y\":[10.0,86.0,4750.0,6000.0,8000.0,10000.0,12000.0,14000.0],\"yaxis\":\"y\",\"type\":\"scatter\"}],                        {\"template\":{\"data\":{\"histogram2dcontour\":[{\"type\":\"histogram2dcontour\",\"colorbar\":{\"outlinewidth\":0,\"ticks\":\"\"},\"colorscale\":[[0.0,\"#0d0887\"],[0.1111111111111111,\"#46039f\"],[0.2222222222222222,\"#7201a8\"],[0.3333333333333333,\"#9c179e\"],[0.4444444444444444,\"#bd3786\"],[0.5555555555555556,\"#d8576b\"],[0.6666666666666666,\"#ed7953\"],[0.7777777777777778,\"#fb9f3a\"],[0.8888888888888888,\"#fdca26\"],[1.0,\"#f0f921\"]]}],\"choropleth\":[{\"type\":\"choropleth\",\"colorbar\":{\"outlinewidth\":0,\"ticks\":\"\"}}],\"histogram2d\":[{\"type\":\"histogram2d\",\"colorbar\":{\"outlinewidth\":0,\"ticks\":\"\"},\"colorscale\":[[0.0,\"#0d0887\"],[0.1111111111111111,\"#46039f\"],[0.2222222222222222,\"#7201a8\"],[0.3333333333333333,\"#9c179e\"],[0.4444444444444444,\"#bd3786\"],[0.5555555555555556,\"#d8576b\"],[0.6666666666666666,\"#ed7953\"],[0.7777777777777778,\"#fb9f3a\"],[0.8888888888888888,\"#fdca26\"],[1.0,\"#f0f921\"]]}],\"heatmap\":[{\"type\":\"heatmap\",\"colorbar\":{\"outlinewidth\":0,\"ticks\":\"\"},\"colorscale\":[[0.0,\"#0d0887\"],[0.1111111111111111,\"#46039f\"],[0.2222222222222222,\"#7201a8\"],[0.3333333333333333,\"#9c179e\"],[0.4444444444444444,\"#bd3786\"],[0.5555555555555556,\"#d8576b\"],[0.6666666666666666,\"#ed7953\"],[0.7777777777777778,\"#fb9f3a\"],[0.8888888888888888,\"#fdca26\"],[1.0,\"#f0f921\"]]}],\"heatmapgl\":[{\"type\":\"heatmapgl\",\"colorbar\":{\"outlinewidth\":0,\"ticks\":\"\"},\"colorscale\":[[0.0,\"#0d0887\"],[0.1111111111111111,\"#46039f\"],[0.2222222222222222,\"#7201a8\"],[0.3333333333333333,\"#9c179e\"],[0.4444444444444444,\"#bd3786\"],[0.5555555555555556,\"#d8576b\"],[0.6666666666666666,\"#ed7953\"],[0.7777777777777778,\"#fb9f3a\"],[0.8888888888888888,\"#fdca26\"],[1.0,\"#f0f921\"]]}],\"contourcarpet\":[{\"type\":\"contourcarpet\",\"colorbar\":{\"outlinewidth\":0,\"ticks\":\"\"}}],\"contour\":[{\"type\":\"contour\",\"colorbar\":{\"outlinewidth\":0,\"ticks\":\"\"},\"colorscale\":[[0.0,\"#0d0887\"],[0.1111111111111111,\"#46039f\"],[0.2222222222222222,\"#7201a8\"],[0.3333333333333333,\"#9c179e\"],[0.4444444444444444,\"#bd3786\"],[0.5555555555555556,\"#d8576b\"],[0.6666666666666666,\"#ed7953\"],[0.7777777777777778,\"#fb9f3a\"],[0.8888888888888888,\"#fdca26\"],[1.0,\"#f0f921\"]]}],\"surface\":[{\"type\":\"surface\",\"colorbar\":{\"outlinewidth\":0,\"ticks\":\"\"},\"colorscale\":[[0.0,\"#0d0887\"],[0.1111111111111111,\"#46039f\"],[0.2222222222222222,\"#7201a8\"],[0.3333333333333333,\"#9c179e\"],[0.4444444444444444,\"#bd3786\"],[0.5555555555555556,\"#d8576b\"],[0.6666666666666666,\"#ed7953\"],[0.7777777777777778,\"#fb9f3a\"],[0.8888888888888888,\"#fdca26\"],[1.0,\"#f0f921\"]]}],\"mesh3d\":[{\"type\":\"mesh3d\",\"colorbar\":{\"outlinewidth\":0,\"ticks\":\"\"}}],\"scatter\":[{\"fillpattern\":{\"fillmode\":\"overlay\",\"size\":10,\"solidity\":0.2},\"type\":\"scatter\"}],\"parcoords\":[{\"type\":\"parcoords\",\"line\":{\"colorbar\":{\"outlinewidth\":0,\"ticks\":\"\"}}}],\"scatterpolargl\":[{\"type\":\"scatterpolargl\",\"marker\":{\"colorbar\":{\"outlinewidth\":0,\"ticks\":\"\"}}}],\"bar\":[{\"error_x\":{\"color\":\"#2a3f5f\"},\"error_y\":{\"color\":\"#2a3f5f\"},\"marker\":{\"line\":{\"color\":\"#E5ECF6\",\"width\":0.5},\"pattern\":{\"fillmode\":\"overlay\",\"size\":10,\"solidity\":0.2}},\"type\":\"bar\"}],\"scattergeo\":[{\"type\":\"scattergeo\",\"marker\":{\"colorbar\":{\"outlinewidth\":0,\"ticks\":\"\"}}}],\"scatterpolar\":[{\"type\":\"scatterpolar\",\"marker\":{\"colorbar\":{\"outlinewidth\":0,\"ticks\":\"\"}}}],\"histogram\":[{\"marker\":{\"pattern\":{\"fillmode\":\"overlay\",\"size\":10,\"solidity\":0.2}},\"type\":\"histogram\"}],\"scattergl\":[{\"type\":\"scattergl\",\"marker\":{\"colorbar\":{\"outlinewidth\":0,\"ticks\":\"\"}}}],\"scatter3d\":[{\"type\":\"scatter3d\",\"line\":{\"colorbar\":{\"outlinewidth\":0,\"ticks\":\"\"}},\"marker\":{\"colorbar\":{\"outlinewidth\":0,\"ticks\":\"\"}}}],\"scattermapbox\":[{\"type\":\"scattermapbox\",\"marker\":{\"colorbar\":{\"outlinewidth\":0,\"ticks\":\"\"}}}],\"scatterternary\":[{\"type\":\"scatterternary\",\"marker\":{\"colorbar\":{\"outlinewidth\":0,\"ticks\":\"\"}}}],\"scattercarpet\":[{\"type\":\"scattercarpet\",\"marker\":{\"colorbar\":{\"outlinewidth\":0,\"ticks\":\"\"}}}],\"carpet\":[{\"aaxis\":{\"endlinecolor\":\"#2a3f5f\",\"gridcolor\":\"white\",\"linecolor\":\"white\",\"minorgridcolor\":\"white\",\"startlinecolor\":\"#2a3f5f\"},\"baxis\":{\"endlinecolor\":\"#2a3f5f\",\"gridcolor\":\"white\",\"linecolor\":\"white\",\"minorgridcolor\":\"white\",\"startlinecolor\":\"#2a3f5f\"},\"type\":\"carpet\"}],\"table\":[{\"cells\":{\"fill\":{\"color\":\"#EBF0F8\"},\"line\":{\"color\":\"white\"}},\"header\":{\"fill\":{\"color\":\"#C8D4E3\"},\"line\":{\"color\":\"white\"}},\"type\":\"table\"}],\"barpolar\":[{\"marker\":{\"line\":{\"color\":\"#E5ECF6\",\"width\":0.5},\"pattern\":{\"fillmode\":\"overlay\",\"size\":10,\"solidity\":0.2}},\"type\":\"barpolar\"}],\"pie\":[{\"automargin\":true,\"type\":\"pie\"}]},\"layout\":{\"autotypenumbers\":\"strict\",\"colorway\":[\"#636efa\",\"#EF553B\",\"#00cc96\",\"#ab63fa\",\"#FFA15A\",\"#19d3f3\",\"#FF6692\",\"#B6E880\",\"#FF97FF\",\"#FECB52\"],\"font\":{\"color\":\"#2a3f5f\"},\"hovermode\":\"closest\",\"hoverlabel\":{\"align\":\"left\"},\"paper_bgcolor\":\"white\",\"plot_bgcolor\":\"#E5ECF6\",\"polar\":{\"bgcolor\":\"#E5ECF6\",\"angularaxis\":{\"gridcolor\":\"white\",\"linecolor\":\"white\",\"ticks\":\"\"},\"radialaxis\":{\"gridcolor\":\"white\",\"linecolor\":\"white\",\"ticks\":\"\"}},\"ternary\":{\"bgcolor\":\"#E5ECF6\",\"aaxis\":{\"gridcolor\":\"white\",\"linecolor\":\"white\",\"ticks\":\"\"},\"baxis\":{\"gridcolor\":\"white\",\"linecolor\":\"white\",\"ticks\":\"\"},\"caxis\":{\"gridcolor\":\"white\",\"linecolor\":\"white\",\"ticks\":\"\"}},\"coloraxis\":{\"colorbar\":{\"outlinewidth\":0,\"ticks\":\"\"}},\"colorscale\":{\"sequential\":[[0.0,\"#0d0887\"],[0.1111111111111111,\"#46039f\"],[0.2222222222222222,\"#7201a8\"],[0.3333333333333333,\"#9c179e\"],[0.4444444444444444,\"#bd3786\"],[0.5555555555555556,\"#d8576b\"],[0.6666666666666666,\"#ed7953\"],[0.7777777777777778,\"#fb9f3a\"],[0.8888888888888888,\"#fdca26\"],[1.0,\"#f0f921\"]],\"sequentialminus\":[[0.0,\"#0d0887\"],[0.1111111111111111,\"#46039f\"],[0.2222222222222222,\"#7201a8\"],[0.3333333333333333,\"#9c179e\"],[0.4444444444444444,\"#bd3786\"],[0.5555555555555556,\"#d8576b\"],[0.6666666666666666,\"#ed7953\"],[0.7777777777777778,\"#fb9f3a\"],[0.8888888888888888,\"#fdca26\"],[1.0,\"#f0f921\"]],\"diverging\":[[0,\"#8e0152\"],[0.1,\"#c51b7d\"],[0.2,\"#de77ae\"],[0.3,\"#f1b6da\"],[0.4,\"#fde0ef\"],[0.5,\"#f7f7f7\"],[0.6,\"#e6f5d0\"],[0.7,\"#b8e186\"],[0.8,\"#7fbc41\"],[0.9,\"#4d9221\"],[1,\"#276419\"]]},\"xaxis\":{\"gridcolor\":\"white\",\"linecolor\":\"white\",\"ticks\":\"\",\"title\":{\"standoff\":15},\"zerolinecolor\":\"white\",\"automargin\":true,\"zerolinewidth\":2},\"yaxis\":{\"gridcolor\":\"white\",\"linecolor\":\"white\",\"ticks\":\"\",\"title\":{\"standoff\":15},\"zerolinecolor\":\"white\",\"automargin\":true,\"zerolinewidth\":2},\"scene\":{\"xaxis\":{\"backgroundcolor\":\"#E5ECF6\",\"gridcolor\":\"white\",\"linecolor\":\"white\",\"showbackground\":true,\"ticks\":\"\",\"zerolinecolor\":\"white\",\"gridwidth\":2},\"yaxis\":{\"backgroundcolor\":\"#E5ECF6\",\"gridcolor\":\"white\",\"linecolor\":\"white\",\"showbackground\":true,\"ticks\":\"\",\"zerolinecolor\":\"white\",\"gridwidth\":2},\"zaxis\":{\"backgroundcolor\":\"#E5ECF6\",\"gridcolor\":\"white\",\"linecolor\":\"white\",\"showbackground\":true,\"ticks\":\"\",\"zerolinecolor\":\"white\",\"gridwidth\":2}},\"shapedefaults\":{\"line\":{\"color\":\"#2a3f5f\"}},\"annotationdefaults\":{\"arrowcolor\":\"#2a3f5f\",\"arrowhead\":0,\"arrowwidth\":1},\"geo\":{\"bgcolor\":\"white\",\"landcolor\":\"#E5ECF6\",\"subunitcolor\":\"white\",\"showland\":true,\"showlakes\":true,\"lakecolor\":\"white\"},\"title\":{\"x\":0.05},\"mapbox\":{\"style\":\"light\"}}},\"xaxis\":{\"anchor\":\"y\",\"domain\":[0.0,1.0],\"title\":{\"text\":\"Cost Reduction (LCOE per kWh)\"}},\"yaxis\":{\"anchor\":\"x\",\"domain\":[0.0,1.0],\"title\":{\"text\":\"Installed Capacity (MW)\"}},\"legend\":{\"title\":{\"text\":\"Country\"},\"tracegroupgap\":0,\"itemsizing\":\"constant\"},\"title\":{\"text\":\"Installed Capacity vs. Cost Reduction by Country\"}},                        {\"responsive\": true}                    ).then(function(){\n",
       "                            \n",
       "var gd = document.getElementById('dc754817-b639-4ebb-b76c-86a1e3eefd5f');\n",
       "var x = new MutationObserver(function (mutations, observer) {{\n",
       "        var display = window.getComputedStyle(gd).display;\n",
       "        if (!display || display === 'none') {{\n",
       "            console.log([gd, 'removed!']);\n",
       "            Plotly.purge(gd);\n",
       "            observer.disconnect();\n",
       "        }}\n",
       "}});\n",
       "\n",
       "// Listen for the removal of the full notebook cells\n",
       "var notebookContainer = gd.closest('#notebook-container');\n",
       "if (notebookContainer) {{\n",
       "    x.observe(notebookContainer, {childList: true});\n",
       "}}\n",
       "\n",
       "// Listen for the clearing of the current output cell\n",
       "var outputEl = gd.closest('.output');\n",
       "if (outputEl) {{\n",
       "    x.observe(outputEl, {childList: true});\n",
       "}}\n",
       "\n",
       "                        })                };                });            </script>        </div>"
      ]
     },
     "metadata": {},
     "output_type": "display_data"
    }
   ],
   "source": [
    "import plotly.express as px\n",
    "import pandas as pd\n",
    "\n",
    "# Load the dataset into a pandas DataFrame\n",
    "data = {\n",
    "    \"Country\": [\"JPN\", \"JPN\", \"JPN\", \"JPN\", \"JPN\", \"JPN\", \"JPN\", \"JPN\", \"JPN\", \"JPN\", \"JPN\", \"JPN\", \"JPN\", \"SGP\", \"SGP\", \"SGP\", \"SGP\", \"SGP\", \"SGP\", \"SGP\", \"SGP\", \"AUZ\", \"AUZ\", \"AUZ\", \"AUZ\", \"AUZ\", \"AUZ\", \"AUZ\", \"AUZ\", \"AUZ\", \"AUZ\", \"AUZ\", \"VN\", \"VN\", \"VN\", \"VN\", \"VN\", \"VN\", \"VN\", \"VN\"],\n",
    "    \"Year\": [2011, 2012, 2013, 2014, 2015, 2016, 2017, 2018, 2019, 2020, 2021, 2022, 2023, 2017, 2018, 2019, 2020, 2021, 2022, 2023, 2024, 2011, 2012, 2013, 2014, 2015, 2016, 2017, 2018, 2019, 2020, 2021, 2017, 2018, 2019, 2020, 2021, 2022, 2023, 2024],\n",
    "    \"Installed_Capacity_MW\": [52742, 32, 29, 26, 25, 24, 24, 23, 22, None, 85020, 90000, 95000, 151.1, 209.8, 352.7, 431.2, 631.8, 822, 1000.5, 1200, None, 2.4, 2.13, 2.4, 1.86, 5000, 7000, 10000, 15000, 17000, 20000, 10, 86, 4750, 6000, 8000, 10000, 12000, 14000],\n",
    "    \"Cost_Reduction_LCOE_kWh\": [None, 0.27, 0.26, 0.24, 0.23, 0.22, 0.21, 0.2, 0.19, 0.18, 0.17, 0.16, 0.15, 0.24, 0.23, 0.22, 0.2, 0.18, 0.16, 0.15, 0.14, None, None, None, None, None, 0.19, 0.18, 0.17, 0.16, 0.15, 0.14, None, 87.5, 76, 66, 0.17, 0.15, 0.14, 0.13],\n",
    "    \"New_Solar_Installation\": [1296, 1718, 6967, 9740, 10811, 8600, 7000, 5000, 4000, 236266, 12000, 15000, 18000, 2500, 3500, 5000, 5500, 6000, 7000, 9000, 12000, None, 200, 250, 500, 1000, 7000, 8000, 10000, 15000, 18000, 20000, 1000, 1500, 6000, 8000, 9500, 10000, 12500, 15000]\n",
    "}\n",
    "\n",
    "df = pd.DataFrame(data)\n",
    "\n",
    "# Fill NaN values in the 'New_Solar_Installation' column with 0\n",
    "df['New_Solar_Installation'].fillna(0, inplace=True)\n",
    "\n",
    "# Plot Installed Capacity and Cost Reduction over the years for each country\n",
    "fig = px.scatter(df, x='Cost_Reduction_LCOE_kWh', y='Installed_Capacity_MW', color='Country', \n",
    "                 size='New_Solar_Installation', hover_data=['Year'],\n",
    "                 title=\"Installed Capacity vs. Cost Reduction by Country\",\n",
    "                 labels={\"Cost_Reduction_LCOE_kWh\": \"Cost Reduction (LCOE per kWh)\", \"Installed_Capacity_MW\": \"Installed Capacity (MW)\"})\n",
    "\n",
    "# Show plot\n",
    "fig.show()"
   ]
  },
  {
   "cell_type": "code",
   "execution_count": 9,
   "id": "cc4290d4-bcec-4002-8614-9c1e533c069a",
   "metadata": {},
   "outputs": [
    {
     "name": "stdout",
     "output_type": "stream",
     "text": [
      "Mean Squared Error: 11615394535.599329\n",
      "R-squared: -16.88771140674939\n"
     ]
    }
   ],
   "source": [
    "import pandas as pd\n",
    "import numpy as np\n",
    "from sklearn.model_selection import train_test_split\n",
    "from sklearn.linear_model import LinearRegression\n",
    "from sklearn.metrics import mean_squared_error, r2_score\n",
    "\n",
    "# Define the data as in the previous example\n",
    "data = {\n",
    "    \"Installed_Capacity_MW\": [52742, 32, 29, 26, 25, 24, 24, 23, 22, np.nan, 85020, 90000, 95000, 151.1, 209.8, 352.7, 431.2, 631.8, 822, 1000.5, 1200, np.nan, 2.4, 2.13, 2.4, 1.86, 5000, 7000, 10000, 15000, 17000, 20000, 10, 86, 4750, 6000, 8000, 10000, 12000, 14000],\n",
    "    \"Cost_Reduction_LCOE_kWh\": [np.nan, 0.27, 0.26, 0.24, 0.23, 0.22, 0.21, 0.2, 0.19, 0.18, 0.17, 0.16, 0.15, 0.24, 0.23, 0.22, 0.2, 0.18, 0.16, 0.15, 0.14, np.nan, np.nan, np.nan, np.nan, np.nan, 0.19, 0.18, 0.17, 0.16, 0.15, 0.14, np.nan, 87.5, 76, 66, 0.17, 0.15, 0.14, 0.13],\n",
    "    \"New_Solar_Installation\": [1296, 1718, 6967, 9740, 10811, 8600, 7000, 5000, 4000, 236266, 12000, 15000, 18000, 2500, 3500, 5000, 5500, 6000, 7000, 9000, 12000, np.nan, 200, 250, 500, 1000, 7000, 8000, 10000, 15000, 18000, 20000, 1000, 1500, 6000, 8000, 9500, 10000, 12500, 15000]\n",
    "}\n",
    "\n",
    "# Convert data to pandas DataFrame\n",
    "df = pd.DataFrame(data)\n",
    "\n",
    "# Fill NaN values with the mean of the column\n",
    "df.fillna(df.mean(), inplace=True)\n",
    "\n",
    "# Define the predictor variables (X) and target variable (y)\n",
    "X = df[['Cost_Reduction_LCOE_kWh', 'New_Solar_Installation']]\n",
    "y = df['Installed_Capacity_MW']\n",
    "\n",
    "# Split the data into training and testing sets\n",
    "X_train, X_test, y_train, y_test = train_test_split(X, y, test_size=0.3, random_state=42)\n",
    "\n",
    "# Create a Linear Regression model\n",
    "model = LinearRegression()\n",
    "\n",
    "# Train the model on the training data\n",
    "model.fit(X_train, y_train)\n",
    "\n",
    "# Predict on the test data\n",
    "y_pred = model.predict(X_test)\n",
    "\n",
    "# Evaluate the model\n",
    "mse = mean_squared_error(y_test, y_pred)\n",
    "r2 = r2_score(y_test, y_pred)\n",
    "\n",
    "print(\"Mean Squared Error:\", mse)\n",
    "print(\"R-squared:\", r2)\n"
   ]
  },
  {
   "cell_type": "code",
   "execution_count": 10,
   "id": "f67e1aec-3640-4b79-87d2-25f3d3cb42ab",
   "metadata": {},
   "outputs": [
    {
     "name": "stdout",
     "output_type": "stream",
     "text": [
      "KNN Classification Accuracy: 0.9166666666666666\n"
     ]
    }
   ],
   "source": [
    "from sklearn.neighbors import KNeighborsClassifier\n",
    "\n",
    "# Create a binary column for classification (High/Low installed capacity)\n",
    "df['Capacity_Class'] = np.where(df['Installed_Capacity_MW'] > df['Installed_Capacity_MW'].mean(), 1, 0)\n",
    "\n",
    "# Define X and y for KNN\n",
    "X = df[['Cost_Reduction_LCOE_kWh', 'New_Solar_Installation']]\n",
    "y = df['Capacity_Class']\n",
    "\n",
    "# Split data\n",
    "X_train, X_test, y_train, y_test = train_test_split(X, y, test_size=0.3, random_state=42)\n",
    "\n",
    "# Create a KNN model\n",
    "knn = KNeighborsClassifier(n_neighbors=3)\n",
    "\n",
    "# Train the model\n",
    "knn.fit(X_train, y_train)\n",
    "\n",
    "# Predict on test set\n",
    "y_pred_knn = knn.predict(X_test)\n",
    "\n",
    "# Evaluate accuracy\n",
    "accuracy = knn.score(X_test, y_test)\n",
    "print(\"KNN Classification Accuracy:\", accuracy)\n",
    "\n",
    "# 91.67% using K-Nearest Neighbors (KNN) suggests that the model is performing well in predicting whether the installed capacity is above or below the average based on Cost_Reduction_LCOE_kWh and New_Solar_Installation.\n"
   ]
  },
  {
   "cell_type": "code",
   "execution_count": null,
   "id": "e8c82823-3e57-46c1-83bc-89e63c045be4",
   "metadata": {},
   "outputs": [],
   "source": []
  }
 ],
 "metadata": {
  "kernelspec": {
   "display_name": "Python 3 (ipykernel)",
   "language": "python",
   "name": "python3"
  },
  "language_info": {
   "codemirror_mode": {
    "name": "ipython",
    "version": 3
   },
   "file_extension": ".py",
   "mimetype": "text/x-python",
   "name": "python",
   "nbconvert_exporter": "python",
   "pygments_lexer": "ipython3",
   "version": "3.11.7"
  }
 },
 "nbformat": 4,
 "nbformat_minor": 5
}
