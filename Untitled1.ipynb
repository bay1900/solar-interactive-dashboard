{
 "cells": [
  {
   "cell_type": "code",
   "execution_count": 1,
   "id": "8b4e1bf6-699b-4d0d-b199-176c9127f240",
   "metadata": {},
   "outputs": [
    {
     "ename": "NameError",
     "evalue": "name 'nx' is not defined",
     "output_type": "error",
     "traceback": [
      "\u001b[0;31m---------------------------------------------------------------------------\u001b[0m",
      "\u001b[0;31mNameError\u001b[0m                                 Traceback (most recent call last)",
      "Cell \u001b[0;32mIn[1], line 4\u001b[0m\n\u001b[1;32m      1\u001b[0m \u001b[38;5;66;03m# Generate a new network graph with slightly different structure and relationships\u001b[39;00m\n\u001b[1;32m      2\u001b[0m \n\u001b[1;32m      3\u001b[0m \u001b[38;5;66;03m# Create a new graph\u001b[39;00m\n\u001b[0;32m----> 4\u001b[0m G_new \u001b[38;5;241m=\u001b[39m nx\u001b[38;5;241m.\u001b[39mGraph()\n\u001b[1;32m      6\u001b[0m \u001b[38;5;66;03m# New set of nodes (policies, stakeholders, technologies, public sentiment, funding)\u001b[39;00m\n\u001b[1;32m      7\u001b[0m nodes \u001b[38;5;241m=\u001b[39m [\n\u001b[1;32m      8\u001b[0m     \u001b[38;5;124m\"\u001b[39m\u001b[38;5;124mSolar Subsidy\u001b[39m\u001b[38;5;124m\"\u001b[39m, \u001b[38;5;124m\"\u001b[39m\u001b[38;5;124mCarbon Tax\u001b[39m\u001b[38;5;124m\"\u001b[39m, \u001b[38;5;124m\"\u001b[39m\u001b[38;5;124mGreen Energy Mandate\u001b[39m\u001b[38;5;124m\"\u001b[39m,  \u001b[38;5;66;03m# Policies\u001b[39;00m\n\u001b[1;32m      9\u001b[0m     \u001b[38;5;124m\"\u001b[39m\u001b[38;5;124mEnergy Ministry\u001b[39m\u001b[38;5;124m\"\u001b[39m, \u001b[38;5;124m\"\u001b[39m\u001b[38;5;124mSolar NGO\u001b[39m\u001b[38;5;124m\"\u001b[39m, \u001b[38;5;124m\"\u001b[39m\u001b[38;5;124mSolar Company\u001b[39m\u001b[38;5;124m\"\u001b[39m, \u001b[38;5;124m\"\u001b[39m\u001b[38;5;124mLocal Community\u001b[39m\u001b[38;5;124m\"\u001b[39m,  \u001b[38;5;66;03m# Stakeholders\u001b[39;00m\n\u001b[0;32m   (...)\u001b[0m\n\u001b[1;32m     12\u001b[0m     \u001b[38;5;124m\"\u001b[39m\u001b[38;5;124mGovernment Grants\u001b[39m\u001b[38;5;124m\"\u001b[39m, \u001b[38;5;124m\"\u001b[39m\u001b[38;5;124mPrivate Investments\u001b[39m\u001b[38;5;124m\"\u001b[39m, \u001b[38;5;124m\"\u001b[39m\u001b[38;5;124mBank Loans\u001b[39m\u001b[38;5;124m\"\u001b[39m  \u001b[38;5;66;03m# Funding Sources\u001b[39;00m\n\u001b[1;32m     13\u001b[0m ]\n",
      "\u001b[0;31mNameError\u001b[0m: name 'nx' is not defined"
     ]
    }
   ],
   "source": [
    "# Generate a new network graph with slightly different structure and relationships\n",
    "\n",
    "# Create a new graph\n",
    "G_new = nx.Graph()\n",
    "\n",
    "# New set of nodes (policies, stakeholders, technologies, public sentiment, funding)\n",
    "nodes = [\n",
    "    \"Solar Subsidy\", \"Carbon Tax\", \"Green Energy Mandate\",  # Policies\n",
    "    \"Energy Ministry\", \"Solar NGO\", \"Solar Company\", \"Local Community\",  # Stakeholders\n",
    "    \"PV Technology\", \"Solar Panel Innovation\",  # Solar Technology\n",
    "    \"Public Support\", \"Public Opposition\", \"Public Neutrality\",  # Public Sentiment\n",
    "    \"Government Grants\", \"Private Investments\", \"Bank Loans\"  # Funding Sources\n",
    "]\n",
    "\n",
    "# Add nodes to the new graph\n",
    "G_new.add_nodes_from(nodes)\n",
    "\n",
    "# New edges (relationships between nodes)\n",
    "edges_new = [\n",
    "    (\"Solar Subsidy\", \"Energy Ministry\"),\n",
    "    (\"Carbon Tax\", \"Solar NGO\"),\n",
    "    (\"Green Energy Mandate\", \"Local Community\"),\n",
    "    (\"Public Support\", \"Solar Subsidy\"),\n",
    "    (\"Public Opposition\", \"Carbon Tax\"),\n",
    "    (\"Government Grants\", \"PV Technology\"),\n",
    "    (\"Private Investments\", \"Solar Panel Innovation\"),\n",
    "    (\"Bank Loans\", \"Solar Company\"),\n",
    "    (\"Solar Company\", \"Solar NGO\"),\n",
    "    (\"Energy Ministry\", \"Solar Company\"),\n",
    "    (\"Solar NGO\", \"Local Community\")\n",
    "]\n",
    "\n",
    "# Add edges to the new graph\n",
    "G_new.add_edges_from(edges_new)\n",
    "\n",
    "# Draw the new graph\n",
    "plt.figure(figsize=(10, 7))\n",
    "pos_new = nx.spring_layout(G_new)  # Layout for positioning nodes\n",
    "nx.draw_networkx_nodes(G_new, pos_new, node_size=3000, node_color='lightblue')\n",
    "nx.draw_networkx_edges(G_new, pos_new, edgelist=edges_new, edge_color='green')\n",
    "nx.draw_networkx_labels(G_new, pos_new, font_size=10, font_family=\"sans-serif\")\n",
    "plt.title(\"New Solar Panel Renewable Energy Network\")\n",
    "plt.axis('off')\n",
    "plt.show()\n",
    "\n"
   ]
  },
  {
   "cell_type": "code",
   "execution_count": null,
   "id": "9a04ade7-1cdb-487c-9862-350c23732497",
   "metadata": {},
   "outputs": [],
   "source": []
  }
 ],
 "metadata": {
  "kernelspec": {
   "display_name": "Python 3 (ipykernel)",
   "language": "python",
   "name": "python3"
  },
  "language_info": {
   "codemirror_mode": {
    "name": "ipython",
    "version": 3
   },
   "file_extension": ".py",
   "mimetype": "text/x-python",
   "name": "python",
   "nbconvert_exporter": "python",
   "pygments_lexer": "ipython3",
   "version": "3.11.7"
  }
 },
 "nbformat": 4,
 "nbformat_minor": 5
}
