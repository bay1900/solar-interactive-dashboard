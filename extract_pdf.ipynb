{
 "cells": [
  {
   "cell_type": "code",
   "execution_count": 4,
   "id": "b09921e2-fb86-4679-864a-e1a0a79bc41d",
   "metadata": {},
   "outputs": [
    {
     "ename": "SyntaxError",
     "evalue": "invalid syntax (508703526.py, line 1)",
     "output_type": "error",
     "traceback": [
      "\u001b[0;36m  Cell \u001b[0;32mIn[4], line 1\u001b[0;36m\u001b[0m\n\u001b[0;31m    pip install pypdf\u001b[0m\n\u001b[0m        ^\u001b[0m\n\u001b[0;31mSyntaxError\u001b[0m\u001b[0;31m:\u001b[0m invalid syntax\n"
     ]
    }
   ],
   "source": [
    "pip install pypdf"
   ]
  },
  {
   "cell_type": "code",
   "execution_count": 5,
   "id": "29b874fa-5439-48c3-a837-2c36bb50373f",
   "metadata": {},
   "outputs": [
    {
     "name": "stdout",
     "output_type": "stream",
     "text": [
      "Requirement already satisfied: pdfplumber in /opt/anaconda3/lib/python3.11/site-packages (0.11.4)\n",
      "Requirement already satisfied: pdfminer.six==20231228 in /opt/anaconda3/lib/python3.11/site-packages (from pdfplumber) (20231228)\n",
      "Requirement already satisfied: Pillow>=9.1 in /opt/anaconda3/lib/python3.11/site-packages (from pdfplumber) (10.2.0)\n",
      "Requirement already satisfied: pypdfium2>=4.18.0 in /opt/anaconda3/lib/python3.11/site-packages (from pdfplumber) (4.30.0)\n",
      "Requirement already satisfied: charset-normalizer>=2.0.0 in /opt/anaconda3/lib/python3.11/site-packages (from pdfminer.six==20231228->pdfplumber) (2.0.4)\n",
      "Requirement already satisfied: cryptography>=36.0.0 in /opt/anaconda3/lib/python3.11/site-packages (from pdfminer.six==20231228->pdfplumber) (42.0.2)\n",
      "Requirement already satisfied: cffi>=1.12 in /opt/anaconda3/lib/python3.11/site-packages (from cryptography>=36.0.0->pdfminer.six==20231228->pdfplumber) (1.16.0)\n",
      "Requirement already satisfied: pycparser in /opt/anaconda3/lib/python3.11/site-packages (from cffi>=1.12->cryptography>=36.0.0->pdfminer.six==20231228->pdfplumber) (2.21)\n",
      "Note: you may need to restart the kernel to use updated packages.\n"
     ]
    }
   ],
   "source": [
    "pip install pdfplumber\n"
   ]
  },
  {
   "cell_type": "code",
   "execution_count": 93,
   "id": "41bb10f7-6724-4ea9-901f-eabb39633b34",
   "metadata": {},
   "outputs": [
    {
     "name": "stdout",
     "output_type": "stream",
     "text": [
      "THE MAJORITY OF AUSTRALIANS ARE CONCERNED ABOUT\n",
      "CLIMATE CHANGE\n",
      "When asked specifically, over four in five (83%) Australians are concerned about climate change with two in five being very concerned. Although strength of concern has\n",
      "increased in 2022 overall concern remains relatively similar to prior levels.\n",
      "Only 15% of Australians are not concerned about climate change. People aged over 65 years are significantly more likely to state they are not concerned about climate change. Males\n",
      "are also statistically more likely to say they are not concerned (18% compared to 11% among females).\n",
      "There is no difference in this perception regardless of whether they live in metropolitan or regional areas of Australia (in 2022, 82% of regional residents are concerned compared to 83%\n",
      "of residents in major metropolitan areas).\n",
      "LEVEL OF CONCERN ABOUT CLIMATE CHANGE\n",
      "35% Very concerned\n",
      "38%\n",
      "41%\n",
      "Somewhat concerned\n",
      "83%\n",
      "Net very and\n",
      "somewhat\n",
      "concerned Not concerned\n",
      "44%\n",
      "42%\n",
      "42%\n",
      "Don’t know\n",
      "More likely to not be concerned\n",
      "19% 18% 15%\n",
      "Males (18%)\n",
      "65+ year olds (25%)\n",
      "2019 2021 2022\n",
      "Significantly higher than other groups\n",
      "7‒ © Ipsos | Climate Change Report 2022 Question: How concerned are you about climate change in general? (2010-2022) Significantly lower than other groups\n"
     ]
    }
   ],
   "source": [
    "\n",
    "\n",
    "import pdfplumber\n",
    "\n",
    "# Open the PDF\n",
    "with pdfplumber.open(\"Ipsos_Climate_Change_Report_2022.pdf\") as pdf:\n",
    "    first_page = pdf.pages[6]\n",
    "    text \n",
    "    print(text)\n",
    "\n",
    "    # # Extract the data\n",
    "    # tables = pdf.extract_table()\n",
    "    # for table in tables:\n",
    "    #     print(table)\n",
    "\n",
    "    # # Extract the images\n",
    "    # images = pdf.get_images()\n",
    "    # for image in images:\n",
    "    #     print(image[\"page_number\"])\n",
    "    #     with open(f\"image_{image['page_number']}.jpg\", \"wb\") as f:\n",
    "    #         f.write(image[\"data\"])\n",
    "\n",
    "with open('climate_concern_australia.txt', 'w') as f:\n",
    "    f.write(text)\n",
    "\n"
   ]
  },
  {
   "cell_type": "code",
   "execution_count": 94,
   "id": "6a1f4271-0031-4772-a295-47d9d90dfcc7",
   "metadata": {},
   "outputs": [
    {
     "name": "stdout",
     "output_type": "stream",
     "text": [
      "['35% Very concerned\\n', '38%\\n', '41%\\n', 'Somewhat concerned\\n', '83%\\n', 'Net very and\\n', 'somewhat\\n', 'concerned Not concerned\\n', '44%\\n', '42%\\n', '42%\\n', 'Don’t know\\n', 'More likely to not be concerned\\n', '19% 18% 15%\\n', 'Males (18%)\\n', '65+ year olds (25%)\\n', '2019 2021 2022\\n']\n"
     ]
    }
   ],
   "source": [
    "# list to store file lines\n",
    "lines = []\n",
    "new   = []\n",
    "# read file\n",
    "with open(\"climate_concern_australia.txt\", 'r') as fp:\n",
    "    # read an store all lines into list\n",
    "    lines = fp.readlines()\n",
    "\n",
    "    # print(lines)\n",
    "\n",
    "    # iterate each line\n",
    "    for number, line in enumerate(lines):\n",
    "\n",
    "        line_from = 9\n",
    "        line_to   = 26\n",
    "\n",
    "        if number >= line_from and number < line_to: \n",
    "          new.append(line)\n",
    "          # print(lines)\n",
    "\n",
    "\n",
    "print(new)\n",
    "string = \" \".join(str(x) for x in new)\n",
    "\n",
    "with open('climate_concern_australia.txt', 'w') as f:\n",
    "    f.write(string)"
   ]
  },
  {
   "cell_type": "code",
   "execution_count": null,
   "id": "0673ace2-51ea-4625-9b38-6d9b4f6d6eac",
   "metadata": {},
   "outputs": [],
   "source": []
  },
  {
   "cell_type": "code",
   "execution_count": null,
   "id": "6de954db-e984-4765-ad5f-45c23d62a4a2",
   "metadata": {},
   "outputs": [],
   "source": []
  }
 ],
 "metadata": {
  "kernelspec": {
   "display_name": "Python 3 (ipykernel)",
   "language": "python",
   "name": "python3"
  },
  "language_info": {
   "codemirror_mode": {
    "name": "ipython",
    "version": 3
   },
   "file_extension": ".py",
   "mimetype": "text/x-python",
   "name": "python",
   "nbconvert_exporter": "python",
   "pygments_lexer": "ipython3",
   "version": "3.11.7"
  }
 },
 "nbformat": 4,
 "nbformat_minor": 5
}
